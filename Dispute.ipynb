{
  "nbformat": 4,
  "nbformat_minor": 0,
  "metadata": {
    "colab": {
      "provenance": [],
      "authorship_tag": "ABX9TyMpzEjMdWegBMUfzBy3YITo",
      "include_colab_link": true
    },
    "kernelspec": {
      "name": "python3",
      "display_name": "Python 3"
    },
    "language_info": {
      "name": "python"
    }
  },
  "cells": [
    {
      "cell_type": "markdown",
      "metadata": {
        "id": "view-in-github",
        "colab_type": "text"
      },
      "source": [
        "<a href=\"https://colab.research.google.com/github/cssrajput/java-ai/blob/main/Dispute.ipynb\" target=\"_parent\"><img src=\"https://colab.research.google.com/assets/colab-badge.svg\" alt=\"Open In Colab\"/></a>"
      ]
    },
    {
      "cell_type": "code",
      "source": [
        "!git add Dispute.ipynb"
      ],
      "metadata": {
        "colab": {
          "base_uri": "https://localhost:8080/"
        },
        "id": "aydurVJ6KIar",
        "outputId": "6bf281ca-ffc9-484b-dd08-dce5cdb40652"
      },
      "execution_count": 29,
      "outputs": [
        {
          "output_type": "stream",
          "name": "stdout",
          "text": [
            "fatal: pathspec 'Dispute.ipynb' did not match any files\n"
          ]
        }
      ]
    },
    {
      "cell_type": "code",
      "source": [
        "from google.colab import drive\n",
        "drive.mount('/content/drive')"
      ],
      "metadata": {
        "id": "1hfo_4RQK2hB"
      },
      "execution_count": null,
      "outputs": []
    },
    {
      "cell_type": "code",
      "source": [
        "import nltk\n",
        "from sklearn.feature_extraction.text import TfidfVectorizer\n",
        "from sklearn.metrics.pairwise import cosine_similarity"
      ],
      "metadata": {
        "id": "fZKXzJ4R-RcT"
      },
      "execution_count": 16,
      "outputs": []
    },
    {
      "cell_type": "code",
      "source": [
        "# Sample customer complaints and resolution outcomes\n",
        "customer_complaints = [\n",
        "    \"Goods / Service not received.\",\n",
        "    \"Goods / Service not as described.\",\n",
        "    \"I was charged twice for the same transaction on my credit card.\",\n",
        "    \"Credit not received. Amount credited by merchant.\"\n",
        "]\n",
        "\n",
        "resolution_outcomes = [\n",
        "    \"We apologize for the inconvenience. We will work on this.\",\n",
        "    \"We apologize for the inconvenience. Please return the product for a refund or replacement.\",\n",
        "    \"We will investigate the double charge and refund the extra amount.\",\n",
        "    \"We are sorry for the poor service. We will compensate you and address the issue with our team.\"\n",
        "]"
      ],
      "metadata": {
        "id": "83JoKDtx-UuW"
      },
      "execution_count": 17,
      "outputs": []
    },
    {
      "cell_type": "code",
      "source": [
        "# Preprocessing and vectorization\n",
        "nltk.download('punkt')\n",
        "\n",
        "def preprocess_text(text):\n",
        "    words = nltk.word_tokenize(text.lower())\n",
        "    words = [word for word in words if word.isalpha()]\n",
        "    return \" \".join(words)\n",
        "\n",
        "preprocessed_customer_complaints = [preprocess_text(complaint) for complaint in customer_complaints]\n",
        "preprocessed_resolution_outcomes = [preprocess_text(outcome) for outcome in resolution_outcomes]\n",
        "\n",
        "vectorizer = TfidfVectorizer()\n",
        "complaint_vectors = vectorizer.fit_transform(preprocessed_customer_complaints)\n",
        "outcome_vectors = vectorizer.transform(preprocessed_resolution_outcomes)\n"
      ],
      "metadata": {
        "colab": {
          "base_uri": "https://localhost:8080/"
        },
        "id": "GOeF79NF-XZC",
        "outputId": "0d37ad6b-772c-4f56-ee9c-9631608bc6a8"
      },
      "execution_count": 18,
      "outputs": [
        {
          "output_type": "stream",
          "name": "stderr",
          "text": [
            "[nltk_data] Downloading package punkt to /root/nltk_data...\n",
            "[nltk_data]   Package punkt is already up-to-date!\n"
          ]
        }
      ]
    },
    {
      "cell_type": "code",
      "source": [
        "# User input (new complaint)\n",
        "new_complaint = \"I haven't received my order, and the seller is not responding.\"\n"
      ],
      "metadata": {
        "id": "d6TZhQeS-aQt"
      },
      "execution_count": 19,
      "outputs": []
    },
    {
      "cell_type": "code",
      "source": [
        "# Preprocess and vectorize the new complaint\n",
        "preprocessed_new_complaint = preprocess_text(new_complaint)\n",
        "new_complaint_vector = vectorizer.transform([preprocessed_new_complaint])"
      ],
      "metadata": {
        "id": "WpWvlbMr-bpb"
      },
      "execution_count": 20,
      "outputs": []
    },
    {
      "cell_type": "code",
      "source": [
        "# Calculate cosine similarity between the new complaint and resolution outcomes\n",
        "similarities = cosine_similarity(new_complaint_vector, outcome_vectors)\n"
      ],
      "metadata": {
        "id": "jLJaoBFt-c_F"
      },
      "execution_count": 21,
      "outputs": []
    },
    {
      "cell_type": "code",
      "source": [
        "# Find the most similar resolution outcome\n",
        "most_similar_index = similarities.argmax()\n",
        "recommended_resolution = resolution_outcomes[most_similar_index]"
      ],
      "metadata": {
        "id": "8FJ0KiV2-eSM"
      },
      "execution_count": 22,
      "outputs": []
    },
    {
      "cell_type": "code",
      "execution_count": 23,
      "metadata": {
        "colab": {
          "base_uri": "https://localhost:8080/"
        },
        "id": "XGRlHnnb84ie",
        "outputId": "056bb560-4ea7-4079-cd95-ffdfe9908d84"
      },
      "outputs": [
        {
          "output_type": "stream",
          "name": "stdout",
          "text": [
            "Recommended Resolution: We will investigate the double charge and refund the extra amount.\n"
          ]
        }
      ],
      "source": [
        "# Print the recommended resolution\n",
        "print(\"Recommended Resolution:\", recommended_resolution)"
      ]
    },
    {
      "cell_type": "code",
      "source": [],
      "metadata": {
        "id": "B160LHmD-PrM"
      },
      "execution_count": null,
      "outputs": []
    }
  ]
}